{
 "metadata": {
  "language_info": {
   "codemirror_mode": {
    "name": "ipython",
    "version": 3
   },
   "file_extension": ".py",
   "mimetype": "text/x-python",
   "name": "python",
   "nbconvert_exporter": "python",
   "pygments_lexer": "ipython3",
   "version": "3.8.8"
  },
  "orig_nbformat": 2,
  "kernelspec": {
   "name": "python388jvsc74a57bd0aee8b7b246df8f9039afb4144a1f6fd8d2ca17a180786b69acc140d282b71a49",
   "display_name": "Python 3.8.8 64-bit"
  },
  "metadata": {
   "interpreter": {
    "hash": "aee8b7b246df8f9039afb4144a1f6fd8d2ca17a180786b69acc140d282b71a49"
   }
  }
 },
 "nbformat": 4,
 "nbformat_minor": 2,
 "cells": [
  {
   "cell_type": "code",
   "execution_count": 25,
   "metadata": {},
   "outputs": [],
   "source": [
    "import pandas as pd\n",
    "import numpy as np\n",
    "import tensorflow as tf\n",
    "import autokeras as ak"
   ]
  },
  {
   "cell_type": "code",
   "execution_count": 30,
   "metadata": {},
   "outputs": [
    {
     "output_type": "stream",
     "name": "stdout",
     "text": [
      "                                                 title      level\n0                   안면 인식 CCTV 도입 으로 중국식 감시 사회 가 도래 한다   전혀 사실 아님\n1    영업 제 한 업종 소상 공인 은 2019 년 대비 2020 년 총 매출 이 감소 해...     대체로 사실\n2                      코로나 19 로 인해 우리 나라 사망 률 이 급증 했 다  대체로 사실 아님\n3    문 대통령 이 본인 이 먼저 코로나 19 백신 을 맞 을 수 있 다고 TV 에 나와...     절반의 사실\n4                      아스트라 제 네 카 백신 은 안전 성 에 문제 가 있 다  대체로 사실 아님\n..                                                 ...        ...\n255             백신 ' 공급 시기 ' 합의 했어도 계약서 에 안 쓰 면 위법 이 다       판단유보\n256   세계 최초 코로나 19 백신 접종 자 의 사진 이 10 월 에 이미 보도 된 적 있 다   전혀 사실 아님\n257  해외 제약사 들 이 광범위 한 면책 을 요구 하 는 것 은 국제 적 으로 거의 공통...     대체로 사실\n258                           아스트라 제 네 카 백신 은 중국 산 이 다  대체로 사실 아님\n259       다른 나라 는 아스트라 제 네 카 대신 화이자 , 모더 나 백신 을 선택 했 다   전혀 사실 아님\n\n[260 rows x 2 columns]\n                                                 title  level\n0                [ 속보 ] 화성시 팔탄면 율암리 현대 한식 부페 방문자 검사 요청      0\n1    [ 속보 ] 화성 시청 현대 한식 부페 ( 팔탄면 서해 로 1121 번 길 11 )...      0\n2            세계 은행 , 내달 까지 40 개 개도국 에 백신 자금 20 억 달러 지원      0\n3              美 일부 주 J & J 백신 중단 … 유럽 의 약 품청 혈전 사례 검토      0\n4                     군내 코로나 19 확진 자 2 명 추가 … 누적 673 명      0\n..                                                 ...    ...\n495            BTJ 열방 센터 , 코로나 19 방역 수칙 위반 등 관련 사과문 발표      0\n496        대구시 교육청 , 초 , 중 , 고 영재 학급 영재교육 대상자 선발 전형 실시      0\n497                경북 교육청 , ' 교육 복지 우선 지원 사업 ' 연수 회 개최      0\n498            이강덕 포항시장 , 김태성 해병대 사령관 내정자 에게 명예 시민증 수여      0\n499                            대구 과학 ㆍ문예창작영재교육원 개강식 개최      0\n\n[500 rows x 2 columns]\n"
     ]
    }
   ],
   "source": [
    "from konlpy.tag import Mecab\n",
    "mecab = Mecab()\n",
    "train = pd.read_csv(\"1.csv\")\n",
    "test = pd.read_csv(\"2.csv\")\n",
    "train['title'] = train['title'].map(lambda x: ' '.join(mecab.morphs(x)))\n",
    "test['title'] = test['title'].map(lambda x: ' '.join(mecab.morphs(x)))\n",
    "print(train)\n",
    "print(test)"
   ]
  },
  {
   "cell_type": "code",
   "execution_count": 32,
   "metadata": {},
   "outputs": [
    {
     "output_type": "stream",
     "name": "stdout",
     "text": [
      "                                                 title      level\n0                   안면 인식 CCTV 도입 으로 중국식 감시 사회 가 도래 한다   전혀 사실 아님\n1    영업 제 한 업종 소상 공인 은 2019 년 대비 2020 년 총 매출 이 감소 해...     대체로 사실\n2                      코로나 19 로 인해 우리 나라 사망 률 이 급증 했 다  대체로 사실 아님\n3    문 대통령 이 본인 이 먼저 코로나 19 백신 을 맞 을 수 있 다고 TV 에 나와...     절반의 사실\n4                      아스트라 제 네 카 백신 은 안전 성 에 문제 가 있 다  대체로 사실 아님\n..                                                 ...        ...\n255             백신 ' 공급 시기 ' 합의 했어도 계약서 에 안 쓰 면 위법 이 다       판단유보\n256   세계 최초 코로나 19 백신 접종 자 의 사진 이 10 월 에 이미 보도 된 적 있 다   전혀 사실 아님\n257  해외 제약사 들 이 광범위 한 면책 을 요구 하 는 것 은 국제 적 으로 거의 공통...     대체로 사실\n258                           아스트라 제 네 카 백신 은 중국 산 이 다  대체로 사실 아님\n259       다른 나라 는 아스트라 제 네 카 대신 화이자 , 모더 나 백신 을 선택 했 다   전혀 사실 아님\n\n[260 rows x 2 columns]\n"
     ]
    }
   ],
   "source": [
    "# change_value_dict = {'판단유보':0,'전혀 사실 아님' : 0,'대체로 사실 아님' : 0.25,'절반의 사실' : 0.5,'대체로 사실' : 0.75, '사실' : 1}\n",
    "# train = train.replace({'level' : change_value_dict})\n",
    "print(train)\n",
    "train['title'] = train['title'].map(lambda x: ' '.join(mecab.morphs(x)))\n",
    "test['title'] = test['title'].map(lambda x: ' '.join(mecab.morphs(x)))\n",
    "X = train['title'].values\n",
    "Y =  train['level'].values"
   ]
  },
  {
   "cell_type": "code",
   "execution_count": 34,
   "metadata": {},
   "outputs": [
    {
     "output_type": "stream",
     "name": "stdout",
     "text": [
      "Trial 5 Complete [00h 00m 02s]\n",
      "val_loss: 1.423948884010315\n",
      "\n",
      "Best val_loss So Far: 1.4022222757339478\n",
      "Total elapsed time: 00h 00m 12s\n",
      "INFO:tensorflow:Oracle triggered exit\n",
      "Epoch 1/5\n",
      "9/9 [==============================] - 1s 12ms/step - loss: 1.7853 - accuracy: 0.2651\n",
      "Epoch 2/5\n",
      "9/9 [==============================] - 0s 12ms/step - loss: 1.7303 - accuracy: 0.4585\n",
      "Epoch 3/5\n",
      "9/9 [==============================] - 0s 12ms/step - loss: 1.6016 - accuracy: 0.4585\n",
      "Epoch 4/5\n",
      "9/9 [==============================] - 0s 12ms/step - loss: 1.4367 - accuracy: 0.4585\n",
      "Epoch 5/5\n",
      "9/9 [==============================] - 0s 13ms/step - loss: 1.4111 - accuracy: 0.4585\n",
      "INFO:tensorflow:Assets written to: ./auto_model/best_model/assets\n"
     ]
    }
   ],
   "source": [
    "\n",
    "input_node = ak.TextInput()\n",
    "output_node = ak.TextToIntSequence()(input_node)\n",
    "output_node = ak.Embedding()(output_node)\n",
    "output_node = ak.ConvBlock(separable=True)(output_node)\n",
    "output_node = ak.ClassificationHead()(output_node)\n",
    "clf = ak.AutoModel(\n",
    "    inputs=input_node,\n",
    "    outputs=output_node,\n",
    "    overwrite=True,\n",
    "    max_trials=5\n",
    "    )\n",
    "clf.fit(X, Y, epochs=5)\n",
    "model = clf.export_model()"
   ]
  },
  {
   "cell_type": "code",
   "execution_count": 35,
   "metadata": {},
   "outputs": [],
   "source": [
    "sample_submission = pd.read_csv(\"sample_submission.csv\")\n",
    "pred_test = model.predict(test['title'].values)"
   ]
  },
  {
   "cell_type": "code",
   "execution_count": 36,
   "metadata": {},
   "outputs": [
    {
     "output_type": "execute_result",
     "data": {
      "text/plain": [
       "                                                 title     level\n",
       "0                [ 속보 ] 화성시 팔탄면 율암리 현대 한식 부페 방문자 검사 요청  0.042380\n",
       "1    [ 속보 ] 화성 시청 현대 한식 부페 ( 팔탄면 서해 로 1121 번 길 11 )...  0.046034\n",
       "2            세계 은행 , 내달 까지 40 개 개도국 에 백신 자금 20 억 달러 지원  0.043883\n",
       "3              美 일부 주 J & J 백신 중단 … 유럽 의 약 품청 혈전 사례 검토  0.044208\n",
       "4                     군내 코로나 19 확진 자 2 명 추가 … 누적 673 명  0.042685\n",
       "..                                                 ...       ...\n",
       "495            BTJ 열방 센터 , 코로나 19 방역 수칙 위반 등 관련 사과문 발표  0.042949\n",
       "496        대구시 교육청 , 초 , 중 , 고 영재 학급 영재교육 대상자 선발 전형 실시  0.042779\n",
       "497                경북 교육청 , ' 교육 복지 우선 지원 사업 ' 연수 회 개최  0.042537\n",
       "498            이강덕 포항시장 , 김태성 해병대 사령관 내정자 에게 명예 시민증 수여  0.042396\n",
       "499                            대구 과학 ㆍ문예창작영재교육원 개강식 개최  0.041255\n",
       "\n",
       "[500 rows x 2 columns]"
      ],
      "text/html": "<div>\n<style scoped>\n    .dataframe tbody tr th:only-of-type {\n        vertical-align: middle;\n    }\n\n    .dataframe tbody tr th {\n        vertical-align: top;\n    }\n\n    .dataframe thead th {\n        text-align: right;\n    }\n</style>\n<table border=\"1\" class=\"dataframe\">\n  <thead>\n    <tr style=\"text-align: right;\">\n      <th></th>\n      <th>title</th>\n      <th>level</th>\n    </tr>\n  </thead>\n  <tbody>\n    <tr>\n      <th>0</th>\n      <td>[ 속보 ] 화성시 팔탄면 율암리 현대 한식 부페 방문자 검사 요청</td>\n      <td>0.042380</td>\n    </tr>\n    <tr>\n      <th>1</th>\n      <td>[ 속보 ] 화성 시청 현대 한식 부페 ( 팔탄면 서해 로 1121 번 길 11 )...</td>\n      <td>0.046034</td>\n    </tr>\n    <tr>\n      <th>2</th>\n      <td>세계 은행 , 내달 까지 40 개 개도국 에 백신 자금 20 억 달러 지원</td>\n      <td>0.043883</td>\n    </tr>\n    <tr>\n      <th>3</th>\n      <td>美 일부 주 J &amp; J 백신 중단 … 유럽 의 약 품청 혈전 사례 검토</td>\n      <td>0.044208</td>\n    </tr>\n    <tr>\n      <th>4</th>\n      <td>군내 코로나 19 확진 자 2 명 추가 … 누적 673 명</td>\n      <td>0.042685</td>\n    </tr>\n    <tr>\n      <th>...</th>\n      <td>...</td>\n      <td>...</td>\n    </tr>\n    <tr>\n      <th>495</th>\n      <td>BTJ 열방 센터 , 코로나 19 방역 수칙 위반 등 관련 사과문 발표</td>\n      <td>0.042949</td>\n    </tr>\n    <tr>\n      <th>496</th>\n      <td>대구시 교육청 , 초 , 중 , 고 영재 학급 영재교육 대상자 선발 전형 실시</td>\n      <td>0.042779</td>\n    </tr>\n    <tr>\n      <th>497</th>\n      <td>경북 교육청 , ' 교육 복지 우선 지원 사업 ' 연수 회 개최</td>\n      <td>0.042537</td>\n    </tr>\n    <tr>\n      <th>498</th>\n      <td>이강덕 포항시장 , 김태성 해병대 사령관 내정자 에게 명예 시민증 수여</td>\n      <td>0.042396</td>\n    </tr>\n    <tr>\n      <th>499</th>\n      <td>대구 과학 ㆍ문예창작영재교육원 개강식 개최</td>\n      <td>0.041255</td>\n    </tr>\n  </tbody>\n</table>\n<p>500 rows × 2 columns</p>\n</div>"
     },
     "metadata": {},
     "execution_count": 36
    }
   ],
   "source": [
    "test['level']=pred_test\n",
    "test"
   ]
  },
  {
   "cell_type": "code",
   "execution_count": 37,
   "metadata": {},
   "outputs": [],
   "source": [
    "test.to_csv(\"sample_submission.csv\",header=False,index=False,encoding='utf-8')"
   ]
  },
  {
   "cell_type": "code",
   "execution_count": null,
   "metadata": {},
   "outputs": [],
   "source": []
  }
 ]
}